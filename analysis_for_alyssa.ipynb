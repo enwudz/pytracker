{
 "cells": [
  {
   "cell_type": "code",
   "execution_count": 1,
   "metadata": {},
   "outputs": [],
   "source": [
    "import numpy as np\n",
    "import matplotlib.pyplot as plt\n",
    "import pandas as pd\n",
    "import glob\n",
    "import matplotlib.dates as mdates\n",
    "import os\n",
    "import math\n",
    "from bisect import bisect_left"
   ]
  },
  {
   "cell_type": "code",
   "execution_count": 2,
   "metadata": {},
   "outputs": [],
   "source": [
    "# these are modified from analysisTools\n",
    "def formatBoxColors(bp, boxColors, baseWidth = 3):\n",
    "    \n",
    "    for n,box in enumerate(bp['boxes']):\n",
    "        box.set( color=boxColors[n], linewidth=baseWidth)\n",
    "\n",
    "    for n,med in enumerate(bp['medians']):\n",
    "        med.set( color=boxColors[n], linewidth=baseWidth)\n",
    "\n",
    "    bdupes=[]\n",
    "    for i in boxColors:\n",
    "        bdupes.extend([i,i])\n",
    "\n",
    "    boxColors = bdupes\n",
    "    for n,whisk in enumerate(bp['whiskers']):\n",
    "        #whisk.set( color=(0.1,0.1,0.1), linewidth=2, alpha = 0.5)\n",
    "        whisk.set( color=boxColors[n], linewidth=baseWidth, alpha = 0.5)\n",
    "\n",
    "    for n,cap in enumerate(bp['caps']):\n",
    "        cap.set( color=boxColors[n], linewidth=baseWidth, alpha = 0.5)\n",
    "\n",
    "    return bp\n",
    "\n",
    "# standard error of the mean\n",
    "def stde(mat,ax):\n",
    "    s = np.std(mat, ax)\n",
    "    se = s / np.sqrt(np.shape(mat)[1])\n",
    "    return se\n",
    "\n",
    "def wobbleAround(center,number,distAway):\n",
    "    # to find points to add to box/whisker plots, centered around midline of box\n",
    "    import random\n",
    "    l=[]\n",
    "    while len(l) < number:\n",
    "        l.append(random.uniform(center-distAway, center+distAway))\n",
    "    return l\n",
    "\n",
    "def roiXYVectors(data,roi):\n",
    "    # roi is the NUMBER of the roi we are interested in looking at\n",
    "    numROI = int(np.shape(data)[1]/2)\n",
    "    x = data[:,roi]\n",
    "    y = data[:,roi+numROI]\n",
    "    coords = (x,y)\n",
    "    return coords\n",
    "\n",
    "def convertCoordstoDistances(coords):\n",
    "    # coords are the  x and y coordinates for each time point\n",
    "    x = coords[0]\n",
    "    y = coords[1]\n",
    "    distances = [math.hypot(x[i+1]-x[i],y[i+1,]-y[i]) for i in range(len(x)-1)]\n",
    "    return distances\n",
    "\n",
    "def convertXYDataToDistances(xyData):\n",
    "    #print('Converting xy data into distances . . .')\n",
    "    roiData = xyData[:,1:]\n",
    "    numRoi = int(np.shape(roiData)[1] / 2)\n",
    "    distances = [convertCoordstoDistances(roiXYVectors(roiData,roi)) for roi in range(numRoi)]\n",
    "    distances = np.transpose(distances)\n",
    "\n",
    "    # put time vector back in\n",
    "    distances = np.insert(distances,0,xyData[1:,0],axis=1)\n",
    "    return distances\n",
    "\n",
    "# bin the data into larger chunks of time\n",
    "def binData(data,binSizeInSeconds,timeSpan):\n",
    "\n",
    "    # first column of data is time\n",
    "    # other columns are either dPix data or distance data for each ROI\n",
    "    timeVec = data[:,0]\n",
    "    roiData = data[:,1:]\n",
    "\n",
    "    # how many COMPLETE bins of binSizeInSeconds are in the total timespan?\n",
    "    numBins = int(math.floor(timeSpan / binSizeInSeconds))\n",
    "\n",
    "    # convert the timeVec to dateTime\n",
    "    #timeVec = [dates.num2date(x,tz=None) for x in timeVec]\n",
    "\n",
    "    # make a vector of time intervals, based on binSizeInSeconds\n",
    "    print('Getting bin starts . . . ')\n",
    "    binStartTimes = [timeVec[0] + binSizeInSeconds * i/ (24*60*60) for i in range(numBins)]\n",
    "\n",
    "    # binStarts = the indices of timeVec that match these time intervals\n",
    "    binStarts = [bisect_left(timeVec, b) for b in binStartTimes]\n",
    "\n",
    "    # make new timeVec from original timeVec based on these indices\n",
    "    binnedTimeVec = [timeVec[b] for b in binStarts]\n",
    "    binnedTimeVec = binnedTimeVec[:-1] # last bin omitted b/c incomplete\n",
    "\n",
    "    # initialize space for binnedData\n",
    "    binnedData = np.zeros([len(binStarts)-1,np.shape(roiData)[1]])\n",
    "\n",
    "    # sum the roi Data in each bin\n",
    "    for b in range(len(binStarts)-1): # last bin omitted b/c incomplete\n",
    "        binnedData[b,:] = np.sum(roiData[binStarts[b]:binStarts[b+1],:],axis=0)\n",
    "\n",
    "    # convert timeVec back to numbers\n",
    "    #binnedTimeVec = [dates.date2num(x) for x in binnedTimeVec]\n",
    "\n",
    "    return binnedData, binnedTimeVec\n",
    "\n",
    "def loadData(searchString):\n",
    "    # load data\n",
    "    fnames = sorted(glob.glob('xy2*.npy'))\n",
    "    print(fnames)\n",
    "    file1 = fnames.pop(0)\n",
    "    d = np.load(file1)\n",
    "    for file in fnames:\n",
    "        x = np.load(file)\n",
    "        d = np.vstack([d,x])\n",
    "    return d\n",
    "\n",
    "def getVidInfo():\n",
    "    vidInfo = {}\n",
    "    with open('vidInfo.csv','r') as f:\n",
    "        for line in f:\n",
    "            stuff = line.rstrip().split(',')\n",
    "            vidInfo[stuff[0]] = stuff[1]\n",
    "    vidInfo['fps'] = int(vidInfo['fps'])\n",
    "    vidInfo['numFrames'] = int(vidInfo['numFrames'])\n",
    "    vidInfo['vidLength'] = float(vidInfo['vidLength'])\n",
    "    return vidInfo\n",
    "\n",
    "def fixTimeStamps(d,vidInfo):\n",
    "    startnum = d[0,0]\n",
    "    #print(startnum)\n",
    "    startTime = int(startnum) + 1 *  1/(24*60*60.0)\n",
    "    #print(startTime)\n",
    "    \n",
    "    # set end time to be start time + number of elapsed seconds\n",
    "    elapsed = int(float(vidInfo['vidLength'])) * 1/(24*60*60)\n",
    "    endTime = startTime + elapsed\n",
    "    startTime = endTime - elapsed\n",
    "    numFrames = int(vidInfo['numFrames'])\n",
    "    timeStamps = np.linspace(startTime,endTime,num=numFrames,endpoint=True)\n",
    "    #print(len(timeStamps))\n",
    "    #print(timeStamps[0])\n",
    "    #print(timeStamps[-1])\n",
    "    #print(numFrames)\n",
    "\n",
    "    # replace timeStamps\n",
    "    d[:,0] = timeStamps\n",
    "    return d\n",
    "\n",
    "def loadAndBinData(searchterm='xy2',binsize=1):\n",
    "    data = loadData(searchterm)\n",
    "    vidInfo = getVidInfo()\n",
    "    data = fixTimeStamps(data,vidInfo)\n",
    "    distances = convertXYDataToDistances(data)\n",
    "    binnedData, binnedTime = binData(distances,binsize,vidInfo['vidLength'])\n",
    "    binsWithMotion = (binnedData>0).astype(int)\n",
    "    return binnedData, binsWithMotion, binnedTime\n",
    "    \n",
    "def getDataForPlot(dataType='secs', genotypes = []): # 'secs' or 'pix'\n",
    "    \n",
    "    binnedData, binsWithMotion, binnedTime = loadAndBinData('xy2',1) \n",
    "    \n",
    "    # for each second, I have (1) motion, and (2) pix moved\n",
    "    # now, get seconds moved per minute and pixels moved per minute\n",
    "\n",
    "    # which one do we want to do?\n",
    "\n",
    "    if dataType == 'pix':\n",
    "        d = binnedData\n",
    "        ylab = 'Movement (pixels) per minute'\n",
    "    else:\n",
    "        d = binsWithMotion\n",
    "        ylab = 'Seconds moved per minute'\n",
    "    \n",
    "    if len(genotypes) == 0:\n",
    "        avg, err = getAvgErr(d)\n",
    "    else:\n",
    "        avg = []\n",
    "        err = []\n",
    "        for g in genotypes:\n",
    "            genoData = d[:,g-1] # this needs to be -1 for indexing!\n",
    "            a, e = getAvgErr(genoData)\n",
    "            avg.append(a)\n",
    "            err.append(e)\n",
    "    \n",
    "    return (avg,err,ylab)\n",
    "\n",
    "def getMinuteMatrix(d): # from 1 second binned data, return matrix (time x wells) summed each minute\n",
    "    numTimeStamps = np.shape(d)[0]\n",
    "    numMinutes = int(np.round(numTimeStamps/60)) # assumes bin by seconds\n",
    "    numWells = np.shape(d)[1]\n",
    "    \n",
    "    mat = np.zeros((numMinutes,numWells)) # minutes, wells\n",
    "    j=0\n",
    "    \n",
    "    for i in range(0,numTimeStamps,60):  # eventually figure these #'s out from data\n",
    "        one_minute = d[i:i+59,:]\n",
    "        sum_one_minute = np.sum(one_minute,0)\n",
    "        mat[j,:] = sum_one_minute\n",
    "        j+=1\n",
    "    \n",
    "    return mat\n",
    "    \n",
    "def getColAvgErr(d):   \n",
    "    mat = getMinuteMatrix(d)\n",
    "    avg = np.mean(mat,1)\n",
    "    err = stde(mat,1)\n",
    "    return avg, err\n",
    "\n",
    "def removenan(vec):\n",
    "    x = vec[~np.isnan(vec)]\n",
    "    return(x)\n",
    "\n",
    "def bigBoxes(boxData,xlabs,ylab,plotSizeParams=[12,6,50,12,10,3],showLabels=True,yLims=[]):\n",
    "    width,height,markersize,label_fsize,tick_fsize,boxLineWeight = plotSizeParams\n",
    "    f,a = plt.subplots(1,1,figsize = (width,height), dpi=300)\n",
    "    \n",
    "    plt.style.use('default')\n",
    "\n",
    "    numreps = int(len(boxData)/2)\n",
    "\n",
    "    plotColors = ['k','r'] * numreps\n",
    "\n",
    "    bp = a.boxplot(boxData,showfliers=False)\n",
    "\n",
    "    bp = formatBoxColors(bp, plotColors, boxLineWeight)\n",
    "    \n",
    "    xPos = 1 \n",
    "    for b in boxData:\n",
    "        numPoints = len(b)\n",
    "        xPoints=wobbleAround(xPos,numPoints,0.05)\n",
    "        # add the points!\n",
    "        \n",
    "        plt.scatter(xPoints,b,c=plotColors[xPos-1],edgecolor=plotColors[xPos-1],alpha=0.2,s=markersize)\n",
    "        xPos += 1\n",
    "\n",
    "    if showLabels == True:\n",
    "        plt.ylabel(ylab,fontsize=label_fsize)\n",
    "        plt.xticks(np.arange(len(xlabs))+1,xlabs,fontsize=tick_fsize)\n",
    "        plt.yticks(fontsize=tick_fsize)\n",
    "    else:\n",
    "        plt.xticks([])\n",
    "        #plt.yticks([0, 250, 500, 750, 1000])\n",
    "        a.set_yticklabels([])\n",
    "        \n",
    "    if len(yLims) > 0:\n",
    "        a.set_ylim(yLims)\n",
    "        \n",
    "    plt.show()\n",
    "    \n",
    "def getMinuteData(prebinnedData,prebinsWithMotion):\n",
    "    pix = getMinuteMatrix(prebinnedData)\n",
    "    secs = getMinuteMatrix(prebinsWithMotion)\n",
    "    rest = 60-secs\n",
    "    seiz = rest/40 * pix/300\n",
    "    return pix,secs,rest,seiz\n",
    "\n",
    "# treatments!!\n",
    "def get_treatment(dose=20):\n",
    "    dmso_20 = np.array([1, 5, 8, 11, 14, 16, 18, 20, 22, 24, 26, 32, 34, 36, 39]) # 20 mM ... omit 3, 28\n",
    "    mefloquine_20 = np.array([2, 4, 6, 10, 12, 15, 17, 19, 21, 23, 27, 30, 33, 35, 37, 40]) # 20 mM ... omit 25\n",
    "\n",
    "    dmso_0 = np.array([1, 3, 5, 7, 10, 13, 16, 18, 20, 22, 26, 32, 34, 36]) # sham\n",
    "    mefloquine_0 = np.array([2, 4, 8, 12, 15, 17, 19, 21, 25, 27, 33, 35, 40 ]) # sham ... omit 6\n",
    "\n",
    "    if dose == 20:\n",
    "        dmso = dmso_20\n",
    "        mefloquine = mefloquine_20\n",
    "    else:\n",
    "        dmso = dmso_0\n",
    "        mefloquine = mefloquine_0\n",
    "\n",
    "    print('dmso',len(dmso))\n",
    "    print('mefloquine',len(mefloquine))\n",
    "    \n",
    "    # correct for indexing!!!\n",
    "    dmso = dmso-1\n",
    "    mefloquine = mefloquine-1\n",
    "    \n",
    "    return dmso, mefloquine"
   ]
  },
  {
   "cell_type": "markdown",
   "metadata": {},
   "source": [
    "# 20201018 ... figure for paper ... 5\" x 10\""
   ]
  },
  {
   "cell_type": "code",
   "execution_count": 3,
   "metadata": {},
   "outputs": [
    {
     "name": "stdout",
     "output_type": "stream",
     "text": [
      "dmso 14\n",
      "mefloquine 13\n",
      "dmso 15\n",
      "mefloquine 16\n"
     ]
    }
   ],
   "source": [
    "dmso_0, mefloquine_0 = get_treatment(0)\n",
    "dmso_20, mefloquine_20 = get_treatment(20)"
   ]
  },
  {
   "cell_type": "code",
   "execution_count": 4,
   "metadata": {},
   "outputs": [
    {
     "name": "stdout",
     "output_type": "stream",
     "text": [
      "/Users/iwoods/Dropbox/alyssa_200924/200924_20mM_PTZ_pre\n"
     ]
    }
   ],
   "source": [
    "cd ~/Dropbox/alyssa_200924/200924_20mM_PTZ_pre/"
   ]
  },
  {
   "cell_type": "code",
   "execution_count": 5,
   "metadata": {},
   "outputs": [
    {
     "name": "stdout",
     "output_type": "stream",
     "text": [
      "['xy200926-073845.npy', 'xy200926-075036.npy', 'xy200926-080228.npy']\n",
      "Getting bin starts . . . \n"
     ]
    }
   ],
   "source": [
    "# load data\n",
    "# bin data on seconds\n",
    "pre_bd_20, pre_bm_20, pre_bt_20 = loadAndBinData('xy2',1)"
   ]
  },
  {
   "cell_type": "code",
   "execution_count": 6,
   "metadata": {},
   "outputs": [
    {
     "name": "stdout",
     "output_type": "stream",
     "text": [
      "/Users/iwoods/Dropbox/alyssa_200924/200924_20mM_PTZ_post\n"
     ]
    }
   ],
   "source": [
    "cd ~/Dropbox/alyssa_200924/200924_20mM_PTZ_post/"
   ]
  },
  {
   "cell_type": "code",
   "execution_count": 7,
   "metadata": {},
   "outputs": [
    {
     "name": "stdout",
     "output_type": "stream",
     "text": [
      "['xy200926-084147.npy', 'xy200926-085342.npy', 'xy200926-090539.npy']\n",
      "Getting bin starts . . . \n"
     ]
    }
   ],
   "source": [
    "# load data\n",
    "# bin data on seconds\n",
    "post_bd_20, post_bm_20, post_bt_20 = loadAndBinData('xy2',1)"
   ]
  },
  {
   "cell_type": "code",
   "execution_count": 8,
   "metadata": {},
   "outputs": [
    {
     "name": "stdout",
     "output_type": "stream",
     "text": [
      "/Users/iwoods/Dropbox/alyssa_200924/200924_sham_pre\n"
     ]
    }
   ],
   "source": [
    "cd ~/Dropbox/alyssa_200924/200924_sham_pre/"
   ]
  },
  {
   "cell_type": "code",
   "execution_count": 9,
   "metadata": {},
   "outputs": [
    {
     "name": "stdout",
     "output_type": "stream",
     "text": [
      "['xy200926-132250.npy', 'xy200926-133444.npy', 'xy200926-134616.npy']\n",
      "Getting bin starts . . . \n"
     ]
    }
   ],
   "source": [
    "# load data\n",
    "# bin data on seconds\n",
    "pre_bd_0, pre_bm_0, pre_bt_0 = loadAndBinData('xy2',1)"
   ]
  },
  {
   "cell_type": "code",
   "execution_count": 10,
   "metadata": {},
   "outputs": [
    {
     "name": "stdout",
     "output_type": "stream",
     "text": [
      "/Users/iwoods/Dropbox/alyssa_200924/200924_sham_post\n"
     ]
    }
   ],
   "source": [
    "cd ~/Dropbox/alyssa_200924/200924_sham_post/"
   ]
  },
  {
   "cell_type": "code",
   "execution_count": 11,
   "metadata": {},
   "outputs": [
    {
     "name": "stdout",
     "output_type": "stream",
     "text": [
      "['xy200926-141231.npy', 'xy200926-142426.npy', 'xy200926-143326.npy']\n",
      "Getting bin starts . . . \n"
     ]
    }
   ],
   "source": [
    "# load data\n",
    "# bin data on seconds\n",
    "post_bd_0, post_bm_0, post_bt_0 = loadAndBinData('xy2',1)"
   ]
  },
  {
   "cell_type": "code",
   "execution_count": 12,
   "metadata": {},
   "outputs": [],
   "source": [
    "prepix_0,presecs_0,prerest_0,preseiz_0 = getMinuteData(pre_bd_0,pre_bm_0)\n",
    "postpix_0,postsecs_0,postrest_0,postseiz_0 = getMinuteData(post_bd_0,post_bm_0)\n",
    "prepix_20,presecs_20,prerest_20,preseiz_20 = getMinuteData(pre_bd_20,pre_bm_20)\n",
    "postpix_20,postsecs_20,postrest_20,postseiz_20 = getMinuteData(post_bd_20,post_bm_20)"
   ]
  },
  {
   "cell_type": "code",
   "execution_count": 13,
   "metadata": {},
   "outputs": [],
   "source": [
    "# boxplots 5 minute sections\n",
    "def fishAvgPerMin(d):\n",
    "    return np.sum(d,0)/np.shape(d)[0]\n",
    "\n",
    "def getBoxPlotData(preData,postData,dmso,mefloquine):\n",
    "    \n",
    "    preDmso = preData[:,dmso]\n",
    "    preMef = preData[:,mefloquine]\n",
    "    postDmso = postData[:,dmso]\n",
    "    postMef = postData[:,mefloquine]\n",
    "    \n",
    "    preDmsoBeg = preDmso[:4,:]\n",
    "    preDmsoMid = preDmso[5:9,:]\n",
    "    preDmsoEnd = preDmso[10:,:]\n",
    "    preMefBeg = preMef[:4,:]\n",
    "    preMefMid = preMef[5:9,:]\n",
    "    preMefEnd = preMef[10:,:]\n",
    "\n",
    "    postDmsoBeg = postDmso[:4,:]\n",
    "    postDmsoMid = postDmso[5:9,:]\n",
    "    postDmsoEnd = postDmso[10:,:]\n",
    "    postMefBeg = postMef[:4,:]\n",
    "    postMefMid = postMef[5:9,:]\n",
    "    postMefEnd = postMef[10:,:]\n",
    "\n",
    "    boxData = [removenan(x) for x in [fishAvgPerMin(preDmsoBeg),fishAvgPerMin(preMefBeg),\n",
    "                                      fishAvgPerMin(preDmsoMid),fishAvgPerMin(preMefMid),\n",
    "                                      fishAvgPerMin(preDmsoEnd),fishAvgPerMin(preMefEnd),\n",
    "                                      fishAvgPerMin(postDmsoBeg),fishAvgPerMin(postMefBeg),\n",
    "                                      fishAvgPerMin(postDmsoMid),fishAvgPerMin(postMefMid),\n",
    "                                      fishAvgPerMin(postDmsoEnd),fishAvgPerMin(postMefEnd)\n",
    "                                     ]]\n",
    "    xlabs = ['dmso\\n1-5\\npre','mefloquine\\n1-5\\npre',\n",
    "             'dmso\\n5-10\\npre','mefloquine\\n5-10\\npre',\n",
    "             'dmso\\n11-15\\npre','mefloquine\\n11-15\\npre',\n",
    "             'dmso\\n1-5\\npost','mefloquine\\n1-5\\npost',\n",
    "             'dmso\\n5-10\\npost','mefloquine\\n5-10\\npost',\n",
    "             'dmso\\n11-15\\npost','mefloquine\\n11-15\\npost']\n",
    "    return boxData, xlabs"
   ]
  },
  {
   "cell_type": "code",
   "execution_count": 14,
   "metadata": {},
   "outputs": [],
   "source": [
    "pix_boxData_0, pix_xlabs_0 = getBoxPlotData(prepix_0,postpix_0,dmso_0,mefloquine_0)\n",
    "secs_boxData_0, secs_xlabs_0 = getBoxPlotData(presecs_0,postsecs_0,dmso_0,mefloquine_0)\n",
    "pix_boxData_20, pix_xlabs_20 = getBoxPlotData(prepix_20,postpix_20,dmso_20,mefloquine_20)\n",
    "secs_boxData_20, secs_xlabs_20 = getBoxPlotData(presecs_20,postsecs_20,dmso_20,mefloquine_20)"
   ]
  },
  {
   "cell_type": "code",
   "execution_count": 15,
   "metadata": {},
   "outputs": [
    {
     "data": {
      "image/png": "[encoded data removed]",
      "text/plain": [
       "<Figure size 948x675 with 1 Axes>"
      ]
     },
     "metadata": {
      "needs_background": "light"
     },
     "output_type": "display_data"
    }
   ],
   "source": [
    "# MAKE THE BOXPLOT! (use data from directly above)\n",
    "\n",
    "boxdata = secs_boxData_20\n",
    "xlabs = secs_xlabs_20\n",
    "ylab = 'secs per minute'\n",
    "fname = 'secs_20.csv'\n",
    "\n",
    "# width,height,markersize,label_fsize,tick_fsize,boxLineWeight\n",
    "plotSizeParams = [3.16,2.25,10,9,3,1] \n",
    "bigBoxes(boxdata,xlabs,ylab,plotSizeParams,True)"
   ]
  },
  {
   "cell_type": "markdown",
   "metadata": {},
   "source": [
    "## export data for stats"
   ]
  },
  {
   "cell_type": "code",
   "execution_count": 16,
   "metadata": {},
   "outputs": [],
   "source": [
    "boxDataDict = {}\n",
    "for i,arr in enumerate(boxdata):\n",
    "    boxDataDict[secs_xlabs_0[i]] = boxdata[i]"
   ]
  },
  {
   "cell_type": "code",
   "execution_count": 17,
   "metadata": {},
   "outputs": [],
   "source": [
    "# fill up arrays with nans\n",
    "maxLen = 0\n",
    "for (k,v) in boxDataDict.items():\n",
    "    if len(v) > maxLen:\n",
    "        maxLen = len(v)\n",
    "\n",
    "for (k,v) in boxDataDict.items():\n",
    "    if len(v) < maxLen:\n",
    "        diff = maxLen - len(v)\n",
    "        boxDataDict[k] = np.append(v, [np.nan]*diff)"
   ]
  },
  {
   "cell_type": "code",
   "execution_count": 18,
   "metadata": {},
   "outputs": [],
   "source": [
    "boxDataDF = pd.DataFrame.from_dict(boxDataDict)"
   ]
  },
  {
   "cell_type": "code",
   "execution_count": 19,
   "metadata": {},
   "outputs": [],
   "source": [
    "boxDataDF.to_csv('/Users/iwoods/Desktop/' + fname,sep = ',')"
   ]
  },
  {
   "cell_type": "markdown",
   "metadata": {},
   "source": [
    "## ribbon plots for paper"
   ]
  },
  {
   "cell_type": "code",
   "execution_count": 23,
   "metadata": {},
   "outputs": [],
   "source": [
    "# use data from above\n",
    "predata = prepix_20\n",
    "postdata = postpix_20\n",
    "dmso = dmso_20\n",
    "mefloquine = mefloquine_20\n",
    "ylab = 'Average pixels per minute'"
   ]
  },
  {
   "cell_type": "code",
   "execution_count": 24,
   "metadata": {},
   "outputs": [],
   "source": [
    "preDmso = predata[:,dmso]\n",
    "preMef = predata[:,mefloquine]\n",
    "postDmso = postdata[:,dmso]\n",
    "postMef = postdata[:,mefloquine]"
   ]
  },
  {
   "cell_type": "code",
   "execution_count": 25,
   "metadata": {},
   "outputs": [],
   "source": [
    "t = np.linspace(0,np.shape(predata)[0]-1, np.shape(predata)[0])\n",
    "pre_t = t-max(t)\n",
    "post_t = t"
   ]
  },
  {
   "cell_type": "code",
   "execution_count": 26,
   "metadata": {
    "scrolled": true
   },
   "outputs": [
    {
     "data": {
      "image/png": "[encoded data removed]",
      "text/plain": [
       "<Figure size 948x675 with 1 Axes>"
      ]
     },
     "metadata": {},
     "output_type": "display_data"
    }
   ],
   "source": [
    "f,a = plt.subplots(1,1,figsize=(3.16,2.25),dpi=300)\n",
    "\n",
    "pre_control = np.mean(preDmso,1)\n",
    "pre_control_err = stde(preDmso,1)\n",
    "post_control = np.mean(postDmso,1)\n",
    "post_control_err = stde(postDmso,1)\n",
    "col = 'k'\n",
    "\n",
    "a.fill_between(pre_t, pre_control-pre_control_err, pre_control+pre_control_err, \n",
    "               alpha = 0.3, facecolor = col, label = 'DMSO')\n",
    "a.plot(pre_t,np.mean(preDmso,1), color=col, linewidth = 3) \n",
    "\n",
    "a.fill_between(post_t, post_control-post_control_err, post_control+post_control_err, \n",
    "               alpha = 0.3, facecolor = col)\n",
    "a.plot(post_t,np.mean(postDmso,1), color=col, linewidth = 3) \n",
    "\n",
    "pre_test = np.mean(preMef,1)\n",
    "pre_test_err = stde(preMef,1)\n",
    "post_test = np.mean(postMef,1)\n",
    "post_test_err = stde(postMef,1)\n",
    "col = 'r'\n",
    "\n",
    "a.fill_between(pre_t, pre_test-pre_test_err, pre_test+pre_test_err, \n",
    "               alpha = 0.3, facecolor = col, label = 'Mefloquine')\n",
    "a.plot(pre_t,np.mean(preMef,1), color=col, linewidth = 3) \n",
    "\n",
    "a.fill_between(post_t, post_test-post_test_err, post_test+post_test_err, \n",
    "               alpha = 0.3, facecolor = col)\n",
    "a.plot(post_t,np.mean(postMef,1), color=col, linewidth = 3) \n",
    "\n",
    "yrange = a.get_ylim()\n",
    "#a.plot([0,0],[yrange[0],yrange[1]],color='k',linestyle=':') # for pix\n",
    "\n",
    "#plt.yticks([0, 250, 500, 750, 1000, 1250]) # pixels, sham\n",
    "plt.yticks([0, 1000, 2000, 3000]) # pixels, 20 mM\n",
    "\n",
    "#plt.yticks([0, 10, 20, 30, 40, 50 ]) # seconds, sham and 20 mM\n",
    "a.plot([0,0],[0, 3000],color='k',linestyle=':') # for seconds\n",
    "\n",
    "a.set_yticklabels([])\n",
    "a.set_xticklabels([])\n",
    "\n",
    "#plt.legend()\n",
    "#a.set_ylabel(ylab)\n",
    "#a.set_xlabel('time (minutes)')\n",
    "#plt.title('20 mM')\n",
    "plt.show()"
   ]
  },
  {
   "cell_type": "markdown",
   "metadata": {},
   "source": [
    "# 20201010 ... rest period and seizure index (and all plots)"
   ]
  },
  {
   "cell_type": "code",
   "execution_count": null,
   "metadata": {},
   "outputs": [],
   "source": [
    "predata = preseiz\n",
    "postdata = postseiz\n",
    "ylab = 'Pixels * Rest seconds per minute'"
   ]
  },
  {
   "cell_type": "code",
   "execution_count": null,
   "metadata": {},
   "outputs": [],
   "source": [
    "preDmso = predata[:,dmso]\n",
    "preMef = predata[:,mefloquine]\n",
    "postDmso = postdata[:,dmso]\n",
    "postMef = postdata[:,mefloquine]"
   ]
  },
  {
   "cell_type": "code",
   "execution_count": null,
   "metadata": {},
   "outputs": [],
   "source": [
    "def fishAvgPerMin(d):\n",
    "    return np.sum(d,0)/np.shape(d)[0]"
   ]
  },
  {
   "cell_type": "code",
   "execution_count": null,
   "metadata": {},
   "outputs": [],
   "source": [
    "# just pre and post\n",
    "boxData = [removenan(x) for x in [fishAvgPerMin(preDmso),fishAvgPerMin(preMef),\n",
    "                                 fishAvgPerMin(postDmso),fishAvgPerMin(postMef)]]\n",
    "xlabs = ['dmso\\npre','mefloquine\\npre','dmso\\npost','mefloquine\\npost']"
   ]
  },
  {
   "cell_type": "code",
   "execution_count": null,
   "metadata": {},
   "outputs": [],
   "source": [
    "# 5 minute sections\n",
    "preDmsoBeg = preDmso[:4,:]\n",
    "preDmsoMid = preDmso[5:9,:]\n",
    "preDmsoEnd = preDmso[10:,:]\n",
    "preMefBeg = preMef[:4,:]\n",
    "preMefMid = preMef[5:9,:]\n",
    "preMefEnd = preMef[10:,:]\n",
    "\n",
    "postDmsoBeg = postDmso[:4,:]\n",
    "postDmsoMid = postDmso[5:9,:]\n",
    "postDmsoEnd = postDmso[10:,:]\n",
    "postMefBeg = postMef[:4,:]\n",
    "postMefMid = postMef[5:9,:]\n",
    "postMefEnd = postMef[10:,:]\n",
    "\n",
    "boxData = [removenan(x) for x in [fishAvgPerMin(preDmsoBeg),fishAvgPerMin(preMefBeg),\n",
    "                                  fishAvgPerMin(preDmsoMid),fishAvgPerMin(preMefMid),\n",
    "                                  fishAvgPerMin(preDmsoEnd),fishAvgPerMin(preMefEnd),\n",
    "                                  fishAvgPerMin(postDmsoBeg),fishAvgPerMin(postMefBeg),\n",
    "                                  fishAvgPerMin(postDmsoMid),fishAvgPerMin(postMefMid),\n",
    "                                  fishAvgPerMin(postDmsoEnd),fishAvgPerMin(postMefEnd)\n",
    "                                 ]]\n",
    "xlabs = ['dmso\\n1-5\\npre','mefloquine\\n1-5\\npre',\n",
    "         'dmso\\n5-10\\npre','mefloquine\\n5-10\\npre',\n",
    "         'dmso\\n11-15\\npre','mefloquine\\n11-15\\npre',\n",
    "         'dmso\\n1-5\\npost','mefloquine\\n1-5\\npost',\n",
    "         'dmso\\n5-10\\npost','mefloquine\\n5-10\\npost',\n",
    "         'dmso\\n11-15\\npost','mefloquine\\n11-15\\npost']"
   ]
  },
  {
   "cell_type": "code",
   "execution_count": null,
   "metadata": {},
   "outputs": [],
   "source": [
    "bigBoxes(boxData,xlabs,ylab)"
   ]
  },
  {
   "cell_type": "code",
   "execution_count": null,
   "metadata": {},
   "outputs": [],
   "source": [
    "# can reset things here ...\n",
    "# predata = preseiz\n",
    "# postdata = postseiz\n",
    "# ylab = 'Rest secs * pixels per minute'\n",
    "# preDmso = predata[:,dmso]\n",
    "# preMef = predata[:,mefloquine]\n",
    "# postDmso = postdata[:,dmso]\n",
    "# postMef = postdata[:,mefloquine]"
   ]
  },
  {
   "cell_type": "code",
   "execution_count": null,
   "metadata": {},
   "outputs": [],
   "source": [
    "t = np.linspace(0,np.shape(predata)[0]-1, np.shape(predata)[0])\n",
    "pre_t = t-max(t)\n",
    "post_t = t"
   ]
  },
  {
   "cell_type": "code",
   "execution_count": null,
   "metadata": {},
   "outputs": [],
   "source": [
    "f,ax = plt.subplots(1,figsize=(5,5))\n",
    "a = 0.2\n",
    "\n",
    "for fish in dmso:\n",
    "    plt.plot(pre_t,predata[:,fish],color='k', alpha = a)\n",
    "\n",
    "for fish in mefloquine:\n",
    "    plt.plot(pre_t,predata[:,fish],color='r', alpha = a)\n",
    "    \n",
    "for fish in dmso:\n",
    "    plt.plot(post_t,postdata[:,fish],color='k', alpha = a)\n",
    "\n",
    "for fish in mefloquine:\n",
    "    plt.plot(post_t,postdata[:,fish],color='r', alpha = a)\n",
    "\n",
    "plt.plot(pre_t,np.mean(preDmso,1),color='k', linewidth = 3)  \n",
    "plt.plot(pre_t,np.mean(preMef,1),color='r', linewidth = 3)  \n",
    "\n",
    "plt.plot(post_t,np.mean(postDmso,1),color='k', linewidth = 3)  \n",
    "plt.plot(post_t,np.mean(postMef,1),color='r', linewidth = 3)\n",
    "\n",
    "yrange = ax.get_ylim()\n",
    "ax.plot([0,0],[yrange[0],yrange[1]],color='k',linestyle=':')\n",
    "ax.set_ylabel(ylab)\n",
    "ax.set_xlabel('Minutes')\n",
    "    \n",
    "plt.show()"
   ]
  },
  {
   "cell_type": "code",
   "execution_count": null,
   "metadata": {},
   "outputs": [],
   "source": [
    "f,a = plt.subplots(1,1,figsize=(5,5))\n",
    "\n",
    "pre_control = np.mean(preDmso,1)\n",
    "pre_control_err = stde(preDmso,1)\n",
    "post_control = np.mean(postDmso,1)\n",
    "post_control_err = stde(postDmso,1)\n",
    "col = 'k'\n",
    "\n",
    "a.fill_between(pre_t, pre_control-pre_control_err, pre_control+pre_control_err, \n",
    "               alpha = 0.3, facecolor = col, label = 'DMSO')\n",
    "a.plot(pre_t,np.mean(preDmso,1), color=col, linewidth = 3) \n",
    "\n",
    "a.fill_between(post_t, post_control-post_control_err, post_control+post_control_err, \n",
    "               alpha = 0.3, facecolor = col)\n",
    "a.plot(post_t,np.mean(postDmso,1), color=col, linewidth = 3) \n",
    "\n",
    "pre_test = np.mean(preMef,1)\n",
    "pre_test_err = stde(preMef,1)\n",
    "post_test = np.mean(postMef,1)\n",
    "post_test_err = stde(postMef,1)\n",
    "col = 'r'\n",
    "\n",
    "a.fill_between(pre_t, pre_test-pre_test_err, pre_test+pre_test_err, \n",
    "               alpha = 0.3, facecolor = col, label = 'Mefloquine')\n",
    "a.plot(pre_t,np.mean(preMef,1), color=col, linewidth = 3) \n",
    "\n",
    "a.fill_between(post_t, post_test-post_test_err, post_test+post_test_err, \n",
    "               alpha = 0.3, facecolor = col)\n",
    "a.plot(post_t,np.mean(postMef,1), color=col, linewidth = 3) \n",
    "\n",
    "a.set_ylabel(ylab)\n",
    "a.set_xlabel('time (minutes)')\n",
    "\n",
    "yrange = a.get_ylim()\n",
    "a.plot([0,0],[yrange[0],yrange[1]],color='k',linestyle=':')\n",
    "plt.legend()\n",
    "#plt.title('20 mM')\n",
    "plt.show()"
   ]
  },
  {
   "cell_type": "markdown",
   "metadata": {},
   "source": [
    "# 20201004 ... bin 5 minutes and boxplots"
   ]
  },
  {
   "cell_type": "code",
   "execution_count": null,
   "metadata": {},
   "outputs": [],
   "source": [
    "dmso_20 = np.array([1, 5, 8, 11, 14, 16, 18, 20, 22, 24, 26, 32, 34, 36, 39]) # 20 mM ... omit 3, 28\n",
    "mefloquine_20 = np.array([2, 4, 6, 10, 12, 15, 17, 19, 21, 23, 27, 30, 33, 35, 37, 40]) # 20 mM ... omit 25\n",
    "\n",
    "dmso_0 = np.array([1, 3, 5, 7, 10, 13, 16, 18, 20, 22, 26, 32, 34, 36]) # sham\n",
    "mefloquine_0 = np.array([2, 4, 8, 12, 15, 17, 19, 21, 25, 27, 33, 35, 40 ]) # sham ... omit 6\n",
    "\n",
    "dmso = dmso_0\n",
    "mefloquine = mefloquine_0\n",
    "\n",
    "# correct for indexing!!!\n",
    "dmso = dmso-1\n",
    "mefloquine = mefloquine-1"
   ]
  },
  {
   "cell_type": "code",
   "execution_count": null,
   "metadata": {},
   "outputs": [],
   "source": [
    "cd ~/Desktop/alyssa_1080p/200924_20mM_PTZ_pre/"
   ]
  },
  {
   "cell_type": "code",
   "execution_count": null,
   "metadata": {},
   "outputs": [],
   "source": [
    "prebinnedData, prebinsWithMotion, prebinnedTime = loadAndBinData('xy2',1)"
   ]
  },
  {
   "cell_type": "code",
   "execution_count": null,
   "metadata": {},
   "outputs": [],
   "source": [
    "cd ~/Desktop/alyssa_1080p/200924_20mM_PTZ_post/"
   ]
  },
  {
   "cell_type": "code",
   "execution_count": null,
   "metadata": {},
   "outputs": [],
   "source": [
    "postbinnedData, postbinsWithMotion, postbinnedTime = loadAndBinData('xy2',1)"
   ]
  },
  {
   "cell_type": "code",
   "execution_count": null,
   "metadata": {},
   "outputs": [],
   "source": [
    "preData = prebinnedData\n",
    "postData = postbinnedData\n",
    "ylab = 'Pixels per minute'"
   ]
  },
  {
   "cell_type": "code",
   "execution_count": null,
   "metadata": {},
   "outputs": [],
   "source": [
    "# preData = prebinsWithMotion\n",
    "# postData = postbinsWithMotion\n",
    "# ylab = 'Seconds moved per minute'"
   ]
  },
  {
   "cell_type": "code",
   "execution_count": null,
   "metadata": {},
   "outputs": [],
   "source": [
    "pre_bin1 = preData[:299,:]\n",
    "pre_bin2 = preData[300:599,:]\n",
    "pre_bin3 = preData[600:,:]\n",
    "post_bin1 = postData[:299,:]\n",
    "post_bin2 = postData[300:599,:]\n",
    "post_bin3 = postData[600:,:]"
   ]
  },
  {
   "cell_type": "code",
   "execution_count": null,
   "metadata": {},
   "outputs": [],
   "source": [
    "dmso_pre_bin1 = np.sum(pre_bin1[:,dmso],0)/5\n",
    "dmso_pre_bin2 = np.sum(pre_bin2[:,dmso],0)/5\n",
    "dmso_pre_bin3 = np.sum(pre_bin3[:,dmso],0)/5\n",
    "dmso_post_bin1 = np.sum(post_bin1[:,dmso],0)/5\n",
    "dmso_post_bin2 = np.sum(post_bin2[:,dmso],0)/5\n",
    "dmso_post_bin3 = np.sum(post_bin3[:,dmso],0)/5\n",
    "\n",
    "mefloquine_pre_bin1 = np.sum(pre_bin1[:,mefloquine],0)/5\n",
    "mefloquine_pre_bin2 = np.sum(pre_bin2[:,mefloquine],0)/5\n",
    "mefloquine_pre_bin3 = np.sum(pre_bin3[:,mefloquine],0)/5\n",
    "mefloquine_post_bin1 = np.sum(post_bin1[:,mefloquine],0)/5\n",
    "mefloquine_post_bin2 = np.sum(post_bin2[:,mefloquine],0)/5\n",
    "mefloquine_post_bin3 = np.sum(post_bin3[:,mefloquine],0)/5"
   ]
  },
  {
   "cell_type": "code",
   "execution_count": null,
   "metadata": {},
   "outputs": [],
   "source": [
    "f,a = plt.subplots(1,1,figsize = (12,6))\n",
    "plt.style.use('default')\n",
    "\n",
    "# seconds per minute\n",
    "boxData = [removenan(x) for x in [dmso_pre_bin1,mefloquine_pre_bin1,\n",
    "                                 dmso_pre_bin2,mefloquine_pre_bin2,\n",
    "                                 dmso_pre_bin3,mefloquine_pre_bin3,\n",
    "                                 dmso_post_bin1,mefloquine_post_bin1,\n",
    "                                 dmso_post_bin2,mefloquine_post_bin2,\n",
    "                                 dmso_post_bin3,mefloquine_post_bin3]\n",
    "          ]\n",
    "\n",
    "numreps = int(len(boxData)/2)\n",
    "\n",
    "plotColors = ['k','r'] * numreps\n",
    "\n",
    "bp = a.boxplot(boxData,showfliers=False)\n",
    "\n",
    "bp = formatBoxColors(bp, plotColors)\n",
    "\n",
    "xPos = 1 \n",
    "for b in boxData:\n",
    "    numPoints = len(b)\n",
    "    xPoints=wobbleAround(xPos,numPoints,0.05)\n",
    "    # add the points!\n",
    "    plt.scatter(xPoints,b,c=plotColors[xPos-1],edgecolor=plotColors[xPos-1],alpha=0.2,s=50)\n",
    "    xPos += 1\n",
    "\n",
    "plt.ylabel(ylab,fontsize=12)\n",
    "xlabs = ['dmso\\npre\\n0-5',  'mefloquine\\npre\\n0-5',\n",
    "        'dmso\\npre\\n6-10',  'mefloquine\\npre\\n6-10',\n",
    "        'dmso\\npre\\n11-15', 'mefloquine\\npre\\n11-15',\n",
    "        'dmso\\npost\\n0-5',  'mefloquine\\npost\\n0-5',\n",
    "        'dmso\\npost\\n6-10', 'mefloquine\\npost\\n6-10',\n",
    "        'dmso\\npost\\n11-15','mefloquine\\npost\\n11-15']\n",
    "plt.xticks([1,2,3,4,5,6,7,8,9,10,11,12],xlabs,fontsize=10)\n",
    "plt.show()"
   ]
  },
  {
   "cell_type": "markdown",
   "metadata": {},
   "source": [
    "# 20201004 show movement paths in 5 minute bins"
   ]
  },
  {
   "cell_type": "code",
   "execution_count": null,
   "metadata": {},
   "outputs": [],
   "source": [
    "from matplotlib import cm\n",
    "\n",
    "def make_N_colors(cmap_name, N):\n",
    "    cmap = cm.get_cmap(cmap_name, N)\n",
    "    colors = [list(cmap(i)) for i in np.linspace(0, 1, N)]\n",
    "    return colors\n",
    "\n",
    "def showAllTraces(data,figname='allTraces.png'):\n",
    "    # note that this takes a LONG time to plot big datasets, b/c each frame is on plot\n",
    "    # saving as image takes less time\n",
    "    print('Plotting trace data for all ROI')\n",
    "    figWidth = 12\n",
    "    figHeight = 8\n",
    "    dotsPerInch = 80\n",
    "    f = plt.figure(num=None, figsize=(figWidth,figHeight), dpi=dotsPerInch, facecolor='w', edgecolor='k')\n",
    "    numROI = int(np.shape(data[:,1:])[1]/2)\n",
    "    roiColors = make_N_colors('rainbow', numROI)\n",
    "    for d in range(numROI):\n",
    "        dotColor = roiColors[d]\n",
    "        xdata = data[:,d+1]\n",
    "        ydata = (figHeight*dotsPerInch)-data[:,d+1+numROI]\n",
    "        plt.scatter(xdata,ydata, facecolor = dotColor, s=2, alpha = 0.2)\n",
    "    plt.xticks([]),plt.yticks([])\n",
    "    plt.axis('equal')\n",
    "\n",
    "    plt.savefig(figname)\n",
    "    print('Saving figure ' + figname)\n",
    "    if np.shape(data)[0] < 50000:\n",
    "        plt.show()\n",
    "    else:\n",
    "        print('See saved figure; too big to plot')"
   ]
  },
  {
   "cell_type": "code",
   "execution_count": null,
   "metadata": {},
   "outputs": [],
   "source": [
    "cd ~/Desktop/alyssa_1080p/200924_20mM_PTZ_pre/"
   ]
  },
  {
   "cell_type": "code",
   "execution_count": null,
   "metadata": {},
   "outputs": [],
   "source": [
    "d = loadData('xy2')"
   ]
  },
  {
   "cell_type": "code",
   "execution_count": null,
   "metadata": {},
   "outputs": [],
   "source": [
    "print(np.shape(d))"
   ]
  },
  {
   "cell_type": "code",
   "execution_count": null,
   "metadata": {},
   "outputs": [],
   "source": [
    "print(np.shape(d)[0]/3)"
   ]
  },
  {
   "cell_type": "code",
   "execution_count": null,
   "metadata": {},
   "outputs": [],
   "source": [
    "prebin1 = d[:8992,:]\n",
    "prebin2 = d[8993:17984,:]\n",
    "prebin3 = d[17984:,:]"
   ]
  },
  {
   "cell_type": "code",
   "execution_count": null,
   "metadata": {},
   "outputs": [],
   "source": [
    "cd ~/Desktop/alyssa_1080p/200924_20mM_PTZ_post/"
   ]
  },
  {
   "cell_type": "code",
   "execution_count": null,
   "metadata": {},
   "outputs": [],
   "source": [
    "d = loadData('xy2')"
   ]
  },
  {
   "cell_type": "code",
   "execution_count": null,
   "metadata": {},
   "outputs": [],
   "source": [
    "print(np.shape(d)[0]/3)"
   ]
  },
  {
   "cell_type": "code",
   "execution_count": null,
   "metadata": {},
   "outputs": [],
   "source": [
    "postbin1 = d[:8992,:]\n",
    "postbin2 = d[8993:17984,:]\n",
    "postbin3 = d[17984:,:]"
   ]
  },
  {
   "cell_type": "code",
   "execution_count": null,
   "metadata": {},
   "outputs": [],
   "source": [
    "showAllTraces(postbin3,'post3_traces')"
   ]
  },
  {
   "cell_type": "code",
   "execution_count": null,
   "metadata": {},
   "outputs": [],
   "source": [
    "# figure out how to draw circles based on genotypes . . . "
   ]
  },
  {
   "cell_type": "markdown",
   "metadata": {},
   "source": [
    "# 20201004 plot time vs. activity individual fish"
   ]
  },
  {
   "cell_type": "code",
   "execution_count": null,
   "metadata": {},
   "outputs": [],
   "source": [
    "binsize = 1 # in seconds\n",
    "binsPerMinute = 60 / binsize # don't change"
   ]
  },
  {
   "cell_type": "code",
   "execution_count": null,
   "metadata": {},
   "outputs": [],
   "source": [
    "cd ~/Desktop/alyssa_1080p/200924_20mM_PTZ_pre/"
   ]
  },
  {
   "cell_type": "code",
   "execution_count": null,
   "metadata": {},
   "outputs": [],
   "source": [
    "pre_bd, pre_bm, bt = loadAndBinData('xy2',binsize)\n",
    "\n",
    "t = np.linspace(0,np.shape(pre_bd)[0] / binsPerMinute, np.shape(pre_bd)[0])\n",
    "pre_t = t-max(t)"
   ]
  },
  {
   "cell_type": "code",
   "execution_count": null,
   "metadata": {},
   "outputs": [],
   "source": [
    "cd ~/Desktop/alyssa_1080p/200924_20mM_PTZ_post/"
   ]
  },
  {
   "cell_type": "code",
   "execution_count": null,
   "metadata": {},
   "outputs": [],
   "source": [
    "post_bd, post_bm, bt = loadAndBinData('xy2',binsize)\n",
    "\n",
    "t = np.linspace(0,np.shape(pre_bd)[0] / binsPerMinute, np.shape(pre_bd)[0])\n",
    "post_t = t"
   ]
  },
  {
   "cell_type": "code",
   "execution_count": null,
   "metadata": {},
   "outputs": [],
   "source": [
    "dmso = np.array([1, 5, 8, 11, 14, 16, 18, 20, 22, 24, 26, 32, 34, 36, 39]) # 20 mM ... omit 3, 28\n",
    "mefloquine = np.array([2, 4, 6, 10, 12, 15, 17, 19, 21, 23, 27, 30, 33, 35, 37, 40]) # 20 mM ... omit 25"
   ]
  },
  {
   "cell_type": "code",
   "execution_count": null,
   "metadata": {},
   "outputs": [],
   "source": [
    "# correct for indexing!!!!\n",
    "dmso = dmso-1\n",
    "mefloquine = mefloquine-1"
   ]
  },
  {
   "cell_type": "code",
   "execution_count": null,
   "metadata": {},
   "outputs": [],
   "source": [
    "pre = pre_bd\n",
    "post = post_bd\n",
    "ylab = 'pixels per minute'\n",
    "\n",
    "# pre = pre_bm\n",
    "# post = post_bm\n",
    "# ylab = 'seconds moved per minute'\n",
    "\n",
    "pre_dmso = np.mean(pre[:,dmso],1)\n",
    "pre_mefloquine = np.mean(pre[:,mefloquine],1)\n",
    "post_dmso = np.mean(post[:,dmso],1)\n",
    "post_mefloquine = np.mean(post[:,mefloquine],1)"
   ]
  },
  {
   "cell_type": "code",
   "execution_count": null,
   "metadata": {},
   "outputs": [],
   "source": [
    "f,ax = plt.subplots(1,figsize=(8,5))\n",
    "a = 0.2\n",
    "\n",
    "for fish in dmso:\n",
    "    plt.plot(pre_t,pre[:,fish],color='k', alpha = a)\n",
    "\n",
    "for fish in mefloquine:\n",
    "    plt.plot(pre_t,pre[:,fish],color='r', alpha = a)\n",
    "    \n",
    "for fish in dmso:\n",
    "    plt.plot(post_t,post[:,fish],color='k', alpha = a)\n",
    "\n",
    "for fish in mefloquine:\n",
    "    plt.plot(post_t,post[:,fish],color='r', alpha = a)\n",
    "\n",
    "plt.plot(pre_t,pre_dmso,color='k', linewidth = 3)  \n",
    "plt.plot(pre_t,pre_mefloquine,color='r', linewidth = 3)  \n",
    "\n",
    "plt.plot(post_t,post_dmso,color='k', linewidth = 3)  \n",
    "plt.plot(post_t,post_mefloquine,color='r', linewidth = 3)\n",
    "\n",
    "yrange = ax.get_ylim()\n",
    "ax.plot([0,0],[yrange[0],yrange[1]],color='k',linestyle=':')\n",
    "ax.set_ylabel(ylab)\n",
    "    \n",
    "plt.show()"
   ]
  },
  {
   "cell_type": "markdown",
   "metadata": {},
   "source": [
    "# 20200924 ... 48 well plates with multiple treatments per plate"
   ]
  },
  {
   "cell_type": "markdown",
   "metadata": {},
   "source": [
    "### ribbon plots"
   ]
  },
  {
   "cell_type": "code",
   "execution_count": null,
   "metadata": {},
   "outputs": [],
   "source": [
    "# enter the different kinds of fish here\n",
    "dmso_0 = np.array([1, 3, 5, 7, 10, 13, 16, 18, 20, 22, 26, 32, 34, 36]) # sham\n",
    "mefloquine_0 = np.array([2, 4, 8, 12, 15, 17, 19, 21, 25, 27, 33, 35, 40 ]) # sham ... omit 6\n",
    "dmso_5 = np.array([2, 4, 6, 8, 10, 12, 14, 20, 22, 25, 27, 30, 32, 36, 38]) # 5 mM ... omit 17\n",
    "mefloquine_5 = np.array([1, 3, 5, 7, 9, 13, 15, 19, 21, 24, 26, 28, 31, 33, 37, 39]) # 5 mM ... omit 11\n",
    "dmso_20 = np.array([1, 5, 8, 11, 14, 16, 18, 20, 22, 24, 26, 32, 34, 36, 39]) # 20 mM ... omit 3, 28\n",
    "mefloquine_20 = np.array([2, 4, 6, 10, 12, 15, 17, 19, 21, 23, 27, 30, 33, 35, 37, 40]) # 20 mM ... omit 25"
   ]
  },
  {
   "cell_type": "code",
   "execution_count": null,
   "metadata": {},
   "outputs": [],
   "source": [
    "cd ~/Desktop/alyssa_1080p/200924_sham_pre/"
   ]
  },
  {
   "cell_type": "code",
   "execution_count": null,
   "metadata": {},
   "outputs": [],
   "source": [
    "pre_avg,pre_err,ylab = getDataForPlot('pix', genotypes = [dmso_0,mefloquine_0])"
   ]
  },
  {
   "cell_type": "code",
   "execution_count": null,
   "metadata": {},
   "outputs": [],
   "source": [
    "cd ~/Desktop/alyssa_1080p/200924_sham_post/"
   ]
  },
  {
   "cell_type": "code",
   "execution_count": null,
   "metadata": {},
   "outputs": [],
   "source": [
    "post_avg,post_err,ylab = getDataForPlot('pix', genotypes = [dmso_0,mefloquine_0])"
   ]
  },
  {
   "cell_type": "code",
   "execution_count": null,
   "metadata": {},
   "outputs": [],
   "source": [
    "# plot of binned data, control vs test, with fill = +/- standard error of the mean\n",
    "f,a = plt.subplots(1,1)\n",
    "t = np.linspace(-14,0,15)\n",
    "t2 = t + 14\n",
    "col = 'k'\n",
    "\n",
    "pre_control = pre_avg[0]\n",
    "pre_test = pre_avg[1]\n",
    "pre_control_err = pre_err[0]\n",
    "pre_test_err = pre_err[1]\n",
    "\n",
    "post_control = post_avg[0]\n",
    "post_test = post_avg[1]\n",
    "post_control_err = post_err[0]\n",
    "post_test_err = post_err[1]\n",
    "\n",
    "a.plot(t,pre_control,color=col)\n",
    "a.fill_between(t, pre_control-pre_control_err, pre_control+pre_control_err, \n",
    "               alpha = 0.3, facecolor = col, label = 'DMSO')\n",
    "\n",
    "a.plot(t2,post_control,color=col)\n",
    "a.fill_between(t2, post_control-post_control_err, post_control+post_control_err, \n",
    "               alpha = 0.3, facecolor = col)\n",
    "\n",
    "col = 'r'\n",
    "a.plot(t,pre_test,color=col)\n",
    "a.fill_between(t, pre_test-pre_test_err, pre_test+pre_test_err, \n",
    "               alpha = 0.3, facecolor = col, label = 'Mefloquine')\n",
    "\n",
    "a.plot(t2,post_test,color=col)\n",
    "a.fill_between(t2, post_test-post_test_err, post_test+post_test_err, \n",
    "               alpha = 0.3, facecolor = col)\n",
    "\n",
    "a.set_ylabel(ylab)\n",
    "a.set_xlabel('time (minutes)')\n",
    "\n",
    "yrange = a.get_ylim()\n",
    "a.plot([0,0],[yrange[0],yrange[1]],color='k',linestyle=':')\n",
    "plt.legend()\n",
    "plt.title('0 mM')\n",
    "plt.show()"
   ]
  },
  {
   "cell_type": "markdown",
   "metadata": {},
   "source": [
    "### boxplots"
   ]
  },
  {
   "cell_type": "code",
   "execution_count": null,
   "metadata": {},
   "outputs": [],
   "source": [
    "# enter the different kinds of fish here\n",
    "dmso_0 = np.array([1, 3, 5, 7, 10, 13, 16, 18, 20, 22, 26, 32, 34, 36]) # sham\n",
    "mefloquine_0 = np.array([2, 4, 8, 12, 15, 17, 19, 21, 25, 27, 33, 35, 40 ]) # sham ... omit 6\n",
    "dmso_5 = np.array([2, 4, 6, 8, 10, 12, 14, 20, 22, 25, 27, 30, 32, 36, 38]) # 5 mM ... omit 17\n",
    "mefloquine_5 = np.array([1, 3, 5, 7, 9, 13, 15, 19, 21, 24, 26, 28, 31, 33, 37, 39]) # 5 mM ... omit 11\n",
    "dmso_20 = np.array([1, 5, 8, 11, 14, 16, 18, 20, 22, 24, 26, 32, 34, 36, 39]) # 20 mM ... omit 3, 28\n",
    "mefloquine_20 = np.array([2, 4, 6, 10, 12, 15, 17, 19, 21, 23, 27, 30, 33, 35, 37, 40]) # 20 mM ... omit 25"
   ]
  },
  {
   "cell_type": "code",
   "execution_count": null,
   "metadata": {},
   "outputs": [],
   "source": [
    "def prepData():\n",
    "    vidInfo = getVidInfo()\n",
    "    print('fps',vidInfo['fps'])\n",
    "    print('num frames',vidInfo['numFrames'])\n",
    "    print('video length',vidInfo['vidLength'])\n",
    "\n",
    "    d = loadData('xy2')\n",
    "    print(np.shape(d)) # should match frame number in vidInfo\n",
    "\n",
    "    # fix timestamps in recorded video\n",
    "    # set start time to be midnight of today + 1 second\n",
    "    d = fixTimeStamps(d,vidInfo)\n",
    "\n",
    "    # convert XY data to distances\n",
    "    distances = convertXYDataToDistances(d)\n",
    "\n",
    "    binnedData, binnedTime = binData(distances,1,vidInfo['vidLength'])\n",
    "\n",
    "    print(np.shape(binnedData))\n",
    "    numMinutes = np.shape(binnedData)[0] / 60.0\n",
    "    print(numMinutes)\n",
    "    \n",
    "    binsWithMotion = (binnedData>0).astype(int)\n",
    "    \n",
    "    return binnedData, binsWithMotion, binnedTime"
   ]
  },
  {
   "cell_type": "code",
   "execution_count": null,
   "metadata": {},
   "outputs": [],
   "source": [
    "cd /Users/iwoods/Desktop/alyssa_1080p/200924_sham_pre"
   ]
  },
  {
   "cell_type": "code",
   "execution_count": null,
   "metadata": {},
   "outputs": [],
   "source": [
    "binnedData, binsWithMotion, binnedTime = prepData()\n",
    "dmso_0_pre_pix = np.sum(binnedData[:,dmso_0],axis=0)/15\n",
    "dmso_0_pre_secs = np.sum(binsWithMotion[:,dmso_0],axis=0)/15\n",
    "mef_0_pre_pix = np.sum(binnedData[:,mefloquine_0],axis=0)/15\n",
    "mef_0_pre_secs = np.sum(binsWithMotion[:,mefloquine_0],axis=0)/15"
   ]
  },
  {
   "cell_type": "code",
   "execution_count": null,
   "metadata": {},
   "outputs": [],
   "source": [
    "cd /Users/iwoods/Desktop/alyssa_1080p/200924_sham_post"
   ]
  },
  {
   "cell_type": "code",
   "execution_count": null,
   "metadata": {},
   "outputs": [],
   "source": [
    "binnedData, binsWithMotion, binnedTime = prepData()\n",
    "dmso_0_post_pix = np.sum(binnedData[:,dmso_0],axis=0)/15\n",
    "dmso_0_post_secs = np.sum(binsWithMotion[:,dmso_0],axis=0)/15\n",
    "mef_0_post_pix = np.sum(binnedData[:,mefloquine_0],axis=0)/15\n",
    "mef_0_post_secs = np.sum(binsWithMotion[:,mefloquine_0],axis=0)/15"
   ]
  },
  {
   "cell_type": "code",
   "execution_count": null,
   "metadata": {},
   "outputs": [],
   "source": [
    "cd /Users/iwoods/Desktop/alyssa_1080p/200924_5mM_PTZ_pre"
   ]
  },
  {
   "cell_type": "code",
   "execution_count": null,
   "metadata": {},
   "outputs": [],
   "source": [
    "binnedData, binsWithMotion, binnedTime = prepData()\n",
    "dmso_5_pre_pix = np.sum(binnedData[:,dmso_5],axis=0)/15\n",
    "dmso_5_pre_secs = np.sum(binsWithMotion[:,dmso_5],axis=0)/15\n",
    "mef_5_pre_pix = np.sum(binnedData[:,mefloquine_5],axis=0)/15\n",
    "mef_5_pre_secs = np.sum(binsWithMotion[:,mefloquine_5],axis=0)/15"
   ]
  },
  {
   "cell_type": "code",
   "execution_count": null,
   "metadata": {},
   "outputs": [],
   "source": [
    "cd /Users/iwoods/Desktop/alyssa_1080p/200924_5mM_PTZ_post"
   ]
  },
  {
   "cell_type": "code",
   "execution_count": null,
   "metadata": {},
   "outputs": [],
   "source": [
    "binnedData, binsWithMotion, binnedTime = prepData()\n",
    "dmso_5_post_pix = np.sum(binnedData[:,dmso_5],axis=0)/15\n",
    "dmso_5_post_secs = np.sum(binsWithMotion[:,dmso_5],axis=0)/15\n",
    "mef_5_post_pix = np.sum(binnedData[:,mefloquine_5],axis=0)/15\n",
    "mef_5_post_secs = np.sum(binsWithMotion[:,mefloquine_5],axis=0)/15"
   ]
  },
  {
   "cell_type": "code",
   "execution_count": null,
   "metadata": {},
   "outputs": [],
   "source": [
    "cd /Users/iwoods/Desktop/alyssa_1080p/200924_20mM_PTZ_pre"
   ]
  },
  {
   "cell_type": "code",
   "execution_count": null,
   "metadata": {},
   "outputs": [],
   "source": [
    "binnedData, binsWithMotion, binnedTime = prepData()\n",
    "dmso_20_pre_pix = np.sum(binnedData[:,dmso_20],axis=0)/15\n",
    "dmso_20_pre_secs = np.sum(binsWithMotion[:,dmso_20],axis=0)/15\n",
    "mef_20_pre_pix = np.sum(binnedData[:,mefloquine_20],axis=0)/15\n",
    "mef_20_pre_secs = np.sum(binsWithMotion[:,mefloquine_20],axis=0)/15"
   ]
  },
  {
   "cell_type": "code",
   "execution_count": null,
   "metadata": {},
   "outputs": [],
   "source": [
    "cd /Users/iwoods/Desktop/alyssa_1080p/200924_20mM_PTZ_post"
   ]
  },
  {
   "cell_type": "code",
   "execution_count": null,
   "metadata": {},
   "outputs": [],
   "source": [
    "binnedData, binsWithMotion, binnedTime = prepData()\n",
    "dmso_20_post_pix = np.sum(binnedData[:,dmso_20],axis=0)/15\n",
    "dmso_20_post_secs = np.sum(binsWithMotion[:,dmso_20],axis=0)/15\n",
    "mef_20_post_pix = np.sum(binnedData[:,mefloquine_20],axis=0)/15\n",
    "mef_20_post_secs = np.sum(binsWithMotion[:,mefloquine_20],axis=0)/15"
   ]
  },
  {
   "cell_type": "code",
   "execution_count": null,
   "metadata": {},
   "outputs": [],
   "source": [
    "f,a = plt.subplots(1,1,figsize = (12,6))\n",
    "plt.style.use('default')\n",
    "\n",
    "# seconds per minute\n",
    "boxData = [removenan(x) for x in [dmso_0_pre_secs,mef_0_pre_secs,dmso_0_post_secs,mef_0_post_secs,\n",
    "                                 dmso_5_pre_secs,mef_5_pre_secs,dmso_5_post_secs,mef_5_post_secs,\n",
    "                                 dmso_20_pre_secs,mef_20_pre_secs,dmso_20_post_secs,mef_20_post_secs]]\n",
    "ylab = 'Seconds moved per minute'\n",
    "\n",
    "# pixels per minute\n",
    "# boxData = [removenan(x) for x in [dmso_0_pre_pix,mef_0_pre_pix,dmso_0_post_pix,mef_0_post_pix,\n",
    "#                                  dmso_5_pre_pix,mef_5_pre_pix,dmso_5_post_pix,mef_5_post_pix,\n",
    "#                                  dmso_20_pre_pix,mef_20_pre_pix,dmso_20_post_pix,mef_20_post_pix]]\n",
    "# ylab = 'Movement (pixels) per minute'\n",
    "\n",
    "numreps = int(len(boxData)/2)\n",
    "print(numreps)\n",
    "plotColors = ['k','r'] * numreps\n",
    "\n",
    "bp = a.boxplot(boxData,showfliers=False)\n",
    "\n",
    "bp = formatBoxColors(bp, plotColors)\n",
    "\n",
    "xPos = 1 \n",
    "for b in boxData:\n",
    "    numPoints = len(b)\n",
    "    xPoints=wobbleAround(xPos,numPoints,0.05)\n",
    "    # add the points!\n",
    "    plt.scatter(xPoints,b,c=plotColors[xPos-1],edgecolor=plotColors[xPos-1],alpha=0.2,s=50)\n",
    "    xPos += 1\n",
    "\n",
    "plt.ylabel(ylab,fontsize=12)\n",
    "xlabs = ['DMSO\\nsham\\npre','Mefloquine\\nsham\\npre','DMSO\\nsham\\npost','Mefloquine\\nsham\\npost',\n",
    "         'DMSO\\n5 mM\\npre','Mefloquine\\n5 mM\\npre','DMSO\\n5 mM\\npost','Mefloquine\\n5 mM\\npost',\n",
    "         'DMSO\\n20 mM\\npre','Mefloquine\\n20 mM\\npre','DMSO\\n20 mM\\npost','Mefloquine\\n20 mM\\npost'\n",
    "        ]\n",
    "plt.xticks([1,2,3,4,5,6,7,8,9,10,11,12],xlabs,fontsize=10)\n",
    "plt.show()"
   ]
  },
  {
   "cell_type": "raw",
   "metadata": {},
   "source": [
    "If you analyze a recorded video, the timestamps are recorded during analysis, and do not correspond to the times for each video frame.\n",
    "\n",
    "Should figure out frames per second and video length (they are in vidInfo.csv), and replace the timestamps with new ones."
   ]
  },
  {
   "cell_type": "code",
   "execution_count": null,
   "metadata": {},
   "outputs": [],
   "source": [
    "vidInfo = getVidInfo()\n",
    "print('fps',vidInfo['fps'])\n",
    "print('num frames',vidInfo['numFrames'])\n",
    "print('video length',vidInfo['vidLength'])\n",
    "\n",
    "d = loadData('xy2')\n",
    "print(np.shape(d)) # should match frame number in vidInfo\n",
    "\n",
    "# fix timestamps in recorded video\n",
    "# set start time to be midnight of today + 1 second\n",
    "d = fixTimeStamps(d,vidInfo)\n",
    "\n",
    "# convert XY data to distances\n",
    "distances = convertXYDataToDistances(d)\n",
    "\n",
    "binnedData, binnedTime = binData(distances,1,vidInfo['vidLength'])\n",
    "\n",
    "print(np.shape(binnedData))\n",
    "numMinutes = np.shape(binnedData)[0] / 60.0\n",
    "print(numMinutes)"
   ]
  },
  {
   "cell_type": "code",
   "execution_count": null,
   "metadata": {},
   "outputs": [],
   "source": []
  },
  {
   "cell_type": "code",
   "execution_count": null,
   "metadata": {},
   "outputs": [],
   "source": [
    "print(binnedData[:14,14:20])"
   ]
  },
  {
   "cell_type": "code",
   "execution_count": null,
   "metadata": {},
   "outputs": [],
   "source": [
    "# show overall motion ... any bumps?\n",
    "timeVmotion = np.mean(binnedData,1)\n",
    "plt.plot(timeVmotion)\n",
    "plt.xlabel('Time (video frames)')\n",
    "plt.ylabel('Motion (displaced pixels)')\n",
    "plt.show()"
   ]
  },
  {
   "cell_type": "code",
   "execution_count": null,
   "metadata": {},
   "outputs": [],
   "source": [
    "# show overall activity in plate ... are there any dead fish that should be omitted?\n",
    "# is the difference in illumination across the plate causing big problems?\n",
    "totalActivity = np.sum(binnedData,0)\n",
    "\n",
    "plateView = np.reshape(totalActivity,(6,8))\n",
    "plt.imshow(plateView, interpolation='nearest', cmap = 'gray')\n",
    "columns = np.array([1,2,3,4,5,6,7,8])\n",
    "rows = ['a','b','c','d','e','f']\n",
    "plt.xticks(columns-1, columns)\n",
    "plt.yticks([0,1,2,3,4,5],rows) # or other way?\n",
    "plt.show()"
   ]
  },
  {
   "cell_type": "code",
   "execution_count": null,
   "metadata": {},
   "outputs": [],
   "source": []
  },
  {
   "cell_type": "code",
   "execution_count": null,
   "metadata": {},
   "outputs": [],
   "source": [
    "binsWithMotion = (binnedData>0).astype(int)\n",
    "print(np.shape(binsWithMotion))\n",
    "print(np.shape(binnedData))"
   ]
  },
  {
   "cell_type": "code",
   "execution_count": null,
   "metadata": {},
   "outputs": [],
   "source": [
    "# plot of binned data, control vs test\n",
    "dmsoData = binnedData[:,dmso]\n",
    "mefloquineData = binnedData[:,mefloquine]\n",
    "\n",
    "dmsoSecsMoved = binsWithMotion[:,dmso]\n",
    "mefloquineSecsMoved = binsWithMotion[:,mefloquine]\n",
    "\n",
    "control = dmsoData\n",
    "test = mefloquineData\n",
    "\n",
    "meanControl = np.mean(control,1)\n",
    "meanTest = np.mean(test,1)\n",
    "plt.plot(binnedTime,meanControl,'k')\n",
    "plt.plot(binnedTime,meanTest,'r')\n",
    "plt.xlabel('time (s)')\n",
    "plt.ylabel('motion (pixels)')\n",
    "plt.show()"
   ]
  },
  {
   "cell_type": "code",
   "execution_count": null,
   "metadata": {},
   "outputs": [],
   "source": [
    "avg,err,ylab = getDataForPlot(dataType='pix')"
   ]
  },
  {
   "cell_type": "code",
   "execution_count": null,
   "metadata": {},
   "outputs": [],
   "source": [
    "print(len(err))"
   ]
  },
  {
   "cell_type": "markdown",
   "metadata": {},
   "source": [
    "# 12 well data analysis, one treatment per plate"
   ]
  },
  {
   "cell_type": "code",
   "execution_count": null,
   "metadata": {},
   "outputs": [],
   "source": [
    "# seconds of motion per minute\n",
    "for x in np.sum(binsWithMotion,0)/numMinutes:\n",
    "    print(str(x))"
   ]
  },
  {
   "cell_type": "code",
   "execution_count": null,
   "metadata": {},
   "outputs": [],
   "source": [
    "# distance (in pixels) moved per minute\n",
    "for x in np.sum(binnedData,0)/numMinutes:\n",
    "    print(str(x))"
   ]
  },
  {
   "cell_type": "markdown",
   "metadata": {},
   "source": [
    "# ribbon plots"
   ]
  },
  {
   "cell_type": "code",
   "execution_count": null,
   "metadata": {},
   "outputs": [],
   "source": [
    "cd ~/Desktop/alyssa_1080p/2_pre/"
   ]
  },
  {
   "cell_type": "code",
   "execution_count": null,
   "metadata": {},
   "outputs": [],
   "source": [
    "# get data for ribbon plot\n",
    "avg1,err1,ylab = getDataForPlot('pix')\n",
    "print(avg1)\n",
    "print(err1)"
   ]
  },
  {
   "cell_type": "code",
   "execution_count": null,
   "metadata": {},
   "outputs": [],
   "source": [
    "cd ~/Desktop/alyssa_1080p/2_post/"
   ]
  },
  {
   "cell_type": "code",
   "execution_count": null,
   "metadata": {},
   "outputs": [],
   "source": [
    "avg2,err2,ylab = getDataForPlot('pix')\n",
    "print(avg2)\n",
    "print(err2)"
   ]
  },
  {
   "cell_type": "code",
   "execution_count": null,
   "metadata": {},
   "outputs": [],
   "source": [
    "cd ~/Desktop/alyssa_1080p/4_pre/"
   ]
  },
  {
   "cell_type": "code",
   "execution_count": null,
   "metadata": {},
   "outputs": [],
   "source": [
    "avg3,err3,ylab = getDataForPlot('pix')\n",
    "print(avg3)\n",
    "print(err3)"
   ]
  },
  {
   "cell_type": "code",
   "execution_count": null,
   "metadata": {},
   "outputs": [],
   "source": [
    "cd ~/Desktop/alyssa_1080p/4_post/"
   ]
  },
  {
   "cell_type": "code",
   "execution_count": null,
   "metadata": {},
   "outputs": [],
   "source": [
    "avg4,err4,ylab = getDataForPlot('pix')\n",
    "print(avg4)\n",
    "print(err4)"
   ]
  },
  {
   "cell_type": "code",
   "execution_count": null,
   "metadata": {},
   "outputs": [],
   "source": [
    "# plot of binned data, control vs test, with fill = +/- standard error of the mean\n",
    "f,a = plt.subplots(1,1)\n",
    "t = np.linspace(-14,0,15)\n",
    "t2 = t + 14\n",
    "col = 'k'\n",
    "\n",
    "a.plot(t,avg1,color=col)\n",
    "a.fill_between(t, avg1-err1, avg1+err1, alpha = 0.3, facecolor = col, label = 'DMSO')\n",
    "\n",
    "a.plot(t2,avg2,color=col)\n",
    "a.fill_between(t2, avg2-err2, avg2+err2, alpha = 0.3, facecolor = col)\n",
    "\n",
    "col = 'r'\n",
    "a.plot(t,avg3,color=col)\n",
    "a.fill_between(t, avg3-err3, avg3+err3, alpha = 0.3, facecolor = col, label = 'Mefloquine')\n",
    "\n",
    "a.plot(t2,avg4,color=col)\n",
    "a.fill_between(t2, avg4-err4, avg4+err4, alpha = 0.3, facecolor = col)\n",
    "\n",
    "a.set_ylabel(ylab)\n",
    "a.set_xlabel('time (minutes)')\n",
    "\n",
    "yrange = a.get_ylim()\n",
    "a.plot([0,0],[yrange[0],yrange[1]],color='k',linestyle=':')\n",
    "plt.legend()\n",
    "plt.title('20 mM')\n",
    "plt.show()"
   ]
  },
  {
   "cell_type": "markdown",
   "metadata": {},
   "source": [
    "# compare pairs"
   ]
  },
  {
   "cell_type": "code",
   "execution_count": null,
   "metadata": {},
   "outputs": [],
   "source": [
    "cd ~/Desktop/alyssa_1080p"
   ]
  },
  {
   "cell_type": "code",
   "execution_count": null,
   "metadata": {},
   "outputs": [],
   "source": [
    "dd = pd.read_csv('200903_1080p.csv',delimiter = ',')\n",
    "dd"
   ]
  },
  {
   "cell_type": "code",
   "execution_count": null,
   "metadata": {},
   "outputs": [],
   "source": [
    "pre = dd.DMSO_sham_PTZ_pre_secs.values\n",
    "post = dd.DMSO_sham_PTZ_post_secs.values\n",
    "\n",
    "boxData = [removenan(x) for x in [pre,post]]\n",
    "bp = plt.boxplot(boxData,showfliers=False)\n",
    "plotColors = ['k','r']\n",
    "bp = formatBoxColors(bp, plotColors)\n",
    "\n",
    "xPos = 1 \n",
    "for b in boxData:\n",
    "    numPoints = len(b)\n",
    "    xPoints=wobbleAround(xPos,numPoints,0.05)\n",
    "    # add the points!\n",
    "    plt.scatter(xPoints,b,c=plotColors[xPos-1],edgecolor=plotColors[xPos-1],alpha=0.2,s=50)\n",
    "    xPos += 1\n",
    "\n",
    "plt.ylabel('Seconds with motion\\nper minute',fontsize=16)\n",
    "#plt.ylabel('Distance (pixels) per minute',fontsize=16)\n",
    "plt.xticks([1,2],['pre','post'],fontsize=16)\n",
    "plt.show()"
   ]
  },
  {
   "cell_type": "markdown",
   "metadata": {},
   "source": [
    "# compare all groups"
   ]
  },
  {
   "cell_type": "code",
   "execution_count": null,
   "metadata": {},
   "outputs": [],
   "source": [
    "cd ~/Desktop/alyssa_1080p"
   ]
  },
  {
   "cell_type": "code",
   "execution_count": null,
   "metadata": {},
   "outputs": [],
   "source": [
    "dd = pd.read_csv('200903_1080p.csv',delimiter = ',')\n",
    "dd"
   ]
  },
  {
   "cell_type": "code",
   "execution_count": null,
   "metadata": {},
   "outputs": [],
   "source": [
    "pre1 =  dd.DMSO_sham_PTZ_pre_secs\n",
    "post1 =  dd.DMSO_sham_PTZ_post_secs\n",
    "pre2 =  dd.DMSO_5mM_PTZ_pre_secs\n",
    "post2 =  dd.DMSO_5mM_PTZ_post_secs\n",
    "pre3 =  dd.DMSO_20mM_PTZ_pre_secs\n",
    "post3 =  dd.DMSO_20mM_PTZ_post_secs\n",
    "pre4 =  dd.Mefloquine_sham_PTZ_pre_secs\n",
    "post4 =  dd.Mefloquine_sham_PTZ_post_secs\n",
    "pre5 = dd.Mefloquine_5mM_PTZ_pre_secs\n",
    "post5 = dd.Mefloquine_5mM_PTZ_post_secs\n",
    "pre6 = dd.Mefloquine_20mM_PTZ_pre_secs\n",
    "post6 = dd.Mefloquine_20mM_PTZ_post_secs\n",
    "ylab = 'Seconds with motion\\nper minute'"
   ]
  },
  {
   "cell_type": "code",
   "execution_count": null,
   "metadata": {},
   "outputs": [],
   "source": [
    "pre1 =  dd.DMSO_sham_PTZ_pre_pix\n",
    "post1 =  dd.DMSO_sham_PTZ_post_pix\n",
    "pre2 =  dd.DMSO_5mM_PTZ_pre_pix\n",
    "post2 =  dd.DMSO_5mM_PTZ_post_pix\n",
    "pre3 =  dd.DMSO_20mM_PTZ_pre_pix\n",
    "post3 =  dd.DMSO_20mM_PTZ_post_pix\n",
    "pre4 =  dd.Mefloquine_sham_PTZ_pre_pix\n",
    "post4 =  dd.Mefloquine_sham_PTZ_post_pix\n",
    "pre5 = dd.Mefloquine_5mM_PTZ_pre_pix\n",
    "post5 = dd.Mefloquine_5mM_PTZ_post_pix\n",
    "pre6 = dd.Mefloquine_20mM_PTZ_pre_pix\n",
    "post6 = dd.Mefloquine_20mM_PTZ_post_pix\n",
    "ylab = 'Seconds with motion\\nper minute'\n",
    "ylab = 'Distance (pixels) per minute'"
   ]
  },
  {
   "cell_type": "code",
   "execution_count": null,
   "metadata": {
    "scrolled": true
   },
   "outputs": [],
   "source": [
    "f,a = plt.subplots(1,1,figsize = (12,6))\n",
    "plt.style.use('default')\n",
    "boxData = [removenan(x) for x in [pre1,post1,pre2,post2,pre3,post3,\n",
    "                                  pre4,post4,pre5,post5,pre6,post6]]\n",
    "numreps = int(len(boxData)/2)\n",
    "print(numreps)\n",
    "plotColors = ['k','r'] * numreps\n",
    "\n",
    "bp = a.boxplot(boxData,showfliers=False)\n",
    "\n",
    "bp = formatBoxColors(bp, plotColors)\n",
    "\n",
    "xPos = 1 \n",
    "for b in boxData:\n",
    "    numPoints = len(b)\n",
    "    xPoints=wobbleAround(xPos,numPoints,0.05)\n",
    "    # add the points!\n",
    "    plt.scatter(xPoints,b,c=plotColors[xPos-1],edgecolor=plotColors[xPos-1],alpha=0.2,s=50)\n",
    "    xPos += 1\n",
    "\n",
    "plt.ylabel(ylab,fontsize=12)\n",
    "xlabs = ['DMSO\\nsham\\npre','DMSO\\nsham\\npost',\n",
    "         'DMSO\\n5mM\\npre','DMSO\\n5mM\\npost',\n",
    "         'DMSO\\n20mM\\npre','DMSO\\n20mM\\npost',\n",
    "         'Mefloquine\\nsham\\npre','Mefloquine\\nsham\\npost',\n",
    "         'Mefloquine\\n5mM\\npre','Mefloquine\\n5mM\\npost',\n",
    "         'Mefloquine\\n20mM\\npre','Mefloquine\\n20mM\\npost']\n",
    "plt.xticks([1,2,3,4,5,6,7,8,9,10,11,12],xlabs,fontsize=10)\n",
    "plt.show()"
   ]
  },
  {
   "cell_type": "markdown",
   "metadata": {},
   "source": [
    "# compare different runs"
   ]
  },
  {
   "cell_type": "code",
   "execution_count": null,
   "metadata": {},
   "outputs": [],
   "source": [
    "cd ~/Desktop/alyssa/720pix/"
   ]
  },
  {
   "cell_type": "code",
   "execution_count": null,
   "metadata": {},
   "outputs": [],
   "source": [
    "tw = pd.read_csv('tryscatter.csv',delimiter = ',')\n",
    "tw"
   ]
  },
  {
   "cell_type": "code",
   "execution_count": null,
   "metadata": {},
   "outputs": [],
   "source": [
    "plt.scatter(tw.fr_pre1_secs_motion_per_minute,tw.pre1_secs_motion_per_minute)\n",
    "plt.show()"
   ]
  }
 ],
 "metadata": {
  "kernelspec": {
   "display_name": "Python 3",
   "language": "python",
   "name": "python3"
  },
  "language_info": {
   "codemirror_mode": {
    "name": "ipython",
    "version": 3
   },
   "file_extension": ".py",
   "mimetype": "text/x-python",
   "name": "python",
   "nbconvert_exporter": "python",
   "pygments_lexer": "ipython3",
   "version": "3.7.3"
  }
 },
 "nbformat": 4,
 "nbformat_minor": 4
}
